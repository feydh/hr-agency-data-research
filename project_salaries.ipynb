{
 "cells": [
  {
   "cell_type": "markdown",
   "id": "c6c48168",
   "metadata": {},
   "source": [
    "# <center> Исследование данных HR-агентства "
   ]
  },
  {
   "cell_type": "markdown",
   "id": "0341b5b7",
   "metadata": {},
   "source": [
    "## Постановка задачи"
   ]
  },
  {
   "cell_type": "markdown",
   "id": "c7e2abc0",
   "metadata": {},
   "source": [
    "HR-агентство изучает тренды на рынке труда в IT. Компания хочет провести исследование на основе данных о зарплатах в сфере Data Science за 2020–2022 годы и получить некоторые выводы.\n",
    "\n",
    "HR-агентство хочет получить ответы на следующие вопросы:\n",
    "- Наблюдается ли ежегодный рост зарплат у специалистов Data Scientist?\n",
    "- Как соотносятся зарплаты Data Scientist и Data Engineer в 2022 году?\n",
    "- Как соотносятся зарплаты специалистов Data Scientist в компаниях различных размеров?\n",
    "- Есть ли связь между наличием должностей Data Scientist и Data Engineer и размером компании?\n",
    "И я решила создать 2 дополнительных вопроса:\n",
    "- Как различаются зарплаты Data Scientist в зависимости от уровня их опыта работы?\n",
    "- Есть ли связь между опытом работы и размером компании?\n",
    "\n",
    "Уровень значимости $\\alpha=0.05$"
   ]
  },
  {
   "cell_type": "markdown",
   "id": "d6f4facf",
   "metadata": {},
   "source": [
    "## Загрузка данных"
   ]
  },
  {
   "cell_type": "code",
   "execution_count": 2,
   "id": "cff28689",
   "metadata": {},
   "outputs": [],
   "source": [
    "# подключение необходимых библиотек\n",
    "import pandas as pd\n",
    "\n",
    "import scipy.stats as stats\n",
    "import statsmodels.stats as sm\n",
    "\n",
    "import seaborn as sns\n",
    "import matplotlib.pyplot as plt"
   ]
  },
  {
   "cell_type": "code",
   "execution_count": 3,
   "id": "9db3da47",
   "metadata": {},
   "outputs": [
    {
     "data": {
      "text/html": [
       "<div>\n",
       "<style scoped>\n",
       "    .dataframe tbody tr th:only-of-type {\n",
       "        vertical-align: middle;\n",
       "    }\n",
       "\n",
       "    .dataframe tbody tr th {\n",
       "        vertical-align: top;\n",
       "    }\n",
       "\n",
       "    .dataframe thead th {\n",
       "        text-align: right;\n",
       "    }\n",
       "</style>\n",
       "<table border=\"1\" class=\"dataframe\">\n",
       "  <thead>\n",
       "    <tr style=\"text-align: right;\">\n",
       "      <th></th>\n",
       "      <th>Unnamed: 0</th>\n",
       "      <th>work_year</th>\n",
       "      <th>experience_level</th>\n",
       "      <th>employment_type</th>\n",
       "      <th>job_title</th>\n",
       "      <th>salary</th>\n",
       "      <th>salary_currency</th>\n",
       "      <th>salary_in_usd</th>\n",
       "      <th>employee_residence</th>\n",
       "      <th>remote_ratio</th>\n",
       "      <th>company_location</th>\n",
       "      <th>company_size</th>\n",
       "    </tr>\n",
       "  </thead>\n",
       "  <tbody>\n",
       "    <tr>\n",
       "      <th>0</th>\n",
       "      <td>0</td>\n",
       "      <td>2020</td>\n",
       "      <td>MI</td>\n",
       "      <td>FT</td>\n",
       "      <td>Data Scientist</td>\n",
       "      <td>70000</td>\n",
       "      <td>EUR</td>\n",
       "      <td>79833</td>\n",
       "      <td>DE</td>\n",
       "      <td>0</td>\n",
       "      <td>DE</td>\n",
       "      <td>L</td>\n",
       "    </tr>\n",
       "    <tr>\n",
       "      <th>1</th>\n",
       "      <td>1</td>\n",
       "      <td>2020</td>\n",
       "      <td>SE</td>\n",
       "      <td>FT</td>\n",
       "      <td>Machine Learning Scientist</td>\n",
       "      <td>260000</td>\n",
       "      <td>USD</td>\n",
       "      <td>260000</td>\n",
       "      <td>JP</td>\n",
       "      <td>0</td>\n",
       "      <td>JP</td>\n",
       "      <td>S</td>\n",
       "    </tr>\n",
       "    <tr>\n",
       "      <th>2</th>\n",
       "      <td>2</td>\n",
       "      <td>2020</td>\n",
       "      <td>SE</td>\n",
       "      <td>FT</td>\n",
       "      <td>Big Data Engineer</td>\n",
       "      <td>85000</td>\n",
       "      <td>GBP</td>\n",
       "      <td>109024</td>\n",
       "      <td>GB</td>\n",
       "      <td>50</td>\n",
       "      <td>GB</td>\n",
       "      <td>M</td>\n",
       "    </tr>\n",
       "    <tr>\n",
       "      <th>3</th>\n",
       "      <td>3</td>\n",
       "      <td>2020</td>\n",
       "      <td>MI</td>\n",
       "      <td>FT</td>\n",
       "      <td>Product Data Analyst</td>\n",
       "      <td>20000</td>\n",
       "      <td>USD</td>\n",
       "      <td>20000</td>\n",
       "      <td>HN</td>\n",
       "      <td>0</td>\n",
       "      <td>HN</td>\n",
       "      <td>S</td>\n",
       "    </tr>\n",
       "    <tr>\n",
       "      <th>4</th>\n",
       "      <td>4</td>\n",
       "      <td>2020</td>\n",
       "      <td>SE</td>\n",
       "      <td>FT</td>\n",
       "      <td>Machine Learning Engineer</td>\n",
       "      <td>150000</td>\n",
       "      <td>USD</td>\n",
       "      <td>150000</td>\n",
       "      <td>US</td>\n",
       "      <td>50</td>\n",
       "      <td>US</td>\n",
       "      <td>L</td>\n",
       "    </tr>\n",
       "  </tbody>\n",
       "</table>\n",
       "</div>"
      ],
      "text/plain": [
       "   Unnamed: 0  work_year experience_level employment_type  \\\n",
       "0           0       2020               MI              FT   \n",
       "1           1       2020               SE              FT   \n",
       "2           2       2020               SE              FT   \n",
       "3           3       2020               MI              FT   \n",
       "4           4       2020               SE              FT   \n",
       "\n",
       "                    job_title  salary salary_currency  salary_in_usd  \\\n",
       "0              Data Scientist   70000             EUR          79833   \n",
       "1  Machine Learning Scientist  260000             USD         260000   \n",
       "2           Big Data Engineer   85000             GBP         109024   \n",
       "3        Product Data Analyst   20000             USD          20000   \n",
       "4   Machine Learning Engineer  150000             USD         150000   \n",
       "\n",
       "  employee_residence  remote_ratio company_location company_size  \n",
       "0                 DE             0               DE            L  \n",
       "1                 JP             0               JP            S  \n",
       "2                 GB            50               GB            M  \n",
       "3                 HN             0               HN            S  \n",
       "4                 US            50               US            L  "
      ]
     },
     "execution_count": 3,
     "metadata": {},
     "output_type": "execute_result"
    }
   ],
   "source": [
    "# загрузка датасета\n",
    "data = pd.read_csv('data/ds_salaries.csv')\n",
    "data.head()"
   ]
  },
  {
   "cell_type": "code",
   "execution_count": 5,
   "id": "87d02d9c",
   "metadata": {},
   "outputs": [],
   "source": [
    "# определение уровня значимости\n",
    "alpha = 0.05"
   ]
  },
  {
   "cell_type": "markdown",
   "id": "9808e67c",
   "metadata": {},
   "source": [
    "## Обработка данных"
   ]
  },
  {
   "cell_type": "code",
   "execution_count": 6,
   "id": "fac89a7d",
   "metadata": {},
   "outputs": [
    {
     "name": "stdout",
     "output_type": "stream",
     "text": [
      "<class 'pandas.core.frame.DataFrame'>\n",
      "RangeIndex: 607 entries, 0 to 606\n",
      "Data columns (total 12 columns):\n",
      " #   Column              Non-Null Count  Dtype \n",
      "---  ------              --------------  ----- \n",
      " 0   Unnamed: 0          607 non-null    int64 \n",
      " 1   work_year           607 non-null    int64 \n",
      " 2   experience_level    607 non-null    object\n",
      " 3   employment_type     607 non-null    object\n",
      " 4   job_title           607 non-null    object\n",
      " 5   salary              607 non-null    int64 \n",
      " 6   salary_currency     607 non-null    object\n",
      " 7   salary_in_usd       607 non-null    int64 \n",
      " 8   employee_residence  607 non-null    object\n",
      " 9   remote_ratio        607 non-null    int64 \n",
      " 10  company_location    607 non-null    object\n",
      " 11  company_size        607 non-null    object\n",
      "dtypes: int64(5), object(7)\n",
      "memory usage: 57.0+ KB\n"
     ]
    }
   ],
   "source": [
    "# описательные характеристики датасета\n",
    "data.info()"
   ]
  },
  {
   "cell_type": "markdown",
   "id": "2be259b4",
   "metadata": {},
   "source": [
    "В датасете 607 записей (Нет пропущенных значений / каждый признак имеет соответствующий тип) \n",
    "- Числовые признаки: work_year, salary, salary_in_usd, remote_ratio, Unnamed: 0\n",
    "- Категориальные признаки: experience_level, employment_type, job_title, salary_currency, employee_residence, company_location, company_size\n",
    "\n",
    "Проверим на дубликаты: "
   ]
  },
  {
   "cell_type": "code",
   "execution_count": 7,
   "id": "a606efc0",
   "metadata": {},
   "outputs": [
    {
     "name": "stdout",
     "output_type": "stream",
     "text": [
      "Количество дубликатов: 0\n"
     ]
    }
   ],
   "source": [
    "print(f'Количество дубликатов: {data[data.duplicated()].shape[0]}')"
   ]
  },
  {
   "cell_type": "markdown",
   "id": "4d99eb5e",
   "metadata": {},
   "source": [
    "Дубликатов не обнаружено, можем не очищать датасет от дубликатов\n",
    "\n",
    "*Неинформативные признаки*: employment_type, employee_residence, remote_ratio, company_location, salary, salary_currency, Unnamed: 0\n",
    "\n",
    "*Информативные признаки*: work_year, salary_in_usd (будем использовать его, поскольку уже всё переведено в единую валюту), job_title, company_size и experience_level(для доп. исследований)"
   ]
  },
  {
   "cell_type": "markdown",
   "id": "c2842bf5",
   "metadata": {},
   "source": [
    "## Разведывательный анализ данных\n",
    "### Визуальный анализ данных"
   ]
  },
  {
   "cell_type": "markdown",
   "id": "bb030493",
   "metadata": {},
   "source": [
    "#### Распределение зарплат"
   ]
  },
  {
   "cell_type": "code",
   "execution_count": 8,
   "id": "d7daa2c5",
   "metadata": {},
   "outputs": [
    {
     "data": {
      "image/png": "[encoded data removed]",
      "text/plain": [
       "<Figure size 1500x500 with 2 Axes>"
      ]
     },
     "metadata": {},
     "output_type": "display_data"
    }
   ],
   "source": [
    "fig, axes = plt.subplots(1, 2, figsize=(15, 5))\n",
    "sns.histplot(data['salary_in_usd'], ax=axes[0], kde=True)\n",
    "axes[0].axvline(data['salary_in_usd'].mean(), color='red', linestyle='--')\n",
    "axes[0].set_title('Распределение признака зарплат')\n",
    "axes[0].set(xlabel='Зарплата', ylabel='Частота')\n",
    "\n",
    "sns.boxplot(data['salary_in_usd'], ax=axes[1], orient='h')\n",
    "axes[1].axvline(data['salary_in_usd'].median(), color='red', linestyle='--')\n",
    "axes[1].set_title('Распределение признака зарплат')\n",
    "axes[1].set(xlabel='Зарплата', ylabel='Частота');\n"
   ]
  },
  {
   "cell_type": "code",
   "execution_count": 9,
   "id": "c1f0fdd6",
   "metadata": {},
   "outputs": [
    {
     "data": {
      "text/plain": [
       "count       607.000000\n",
       "mean     112297.869852\n",
       "std       70957.259411\n",
       "min        2859.000000\n",
       "25%       62726.000000\n",
       "50%      101570.000000\n",
       "75%      150000.000000\n",
       "max      600000.000000\n",
       "Name: salary_in_usd, dtype: float64"
      ]
     },
     "execution_count": 9,
     "metadata": {},
     "output_type": "execute_result"
    }
   ],
   "source": [
    "data['salary_in_usd'].describe()"
   ]
  },
  {
   "cell_type": "markdown",
   "id": "fe8c6671",
   "metadata": {},
   "source": [
    "Распределение похоже на нормальное, поскольку напоминает своей формой колокол, но из-за того что значения медианы и среднего различны, распределение **не является нормальным**"
   ]
  },
  {
   "cell_type": "markdown",
   "id": "e53ee473",
   "metadata": {},
   "source": [
    "#### Распределение годов"
   ]
  },
  {
   "cell_type": "code",
   "execution_count": 10,
   "id": "dfc3829e",
   "metadata": {},
   "outputs": [
    {
     "data": {
      "image/png": "[encoded data removed]",
      "text/plain": [
       "<Figure size 1500x500 with 2 Axes>"
      ]
     },
     "metadata": {},
     "output_type": "display_data"
    }
   ],
   "source": [
    "fig, axes = plt.subplots(1, 2, figsize=(15, 5))\n",
    "sns.histplot(data['work_year'], ax=axes[0], kde=True)\n",
    "axes[0].axvline(data['work_year'].mean(), color='red', linestyle='--')\n",
    "axes[0].set_title('Распределение признака годов')\n",
    "axes[0].set(xlabel='Год', ylabel='Частота')\n",
    "\n",
    "sns.boxplot(data['work_year'], ax=axes[1], orient='h')\n",
    "axes[1].axvline(data['work_year'].median(), color='red', linestyle='--')\n",
    "axes[1].set_title('Распределение признака годов')\n",
    "axes[1].set(xlabel='Год', ylabel='Частота');"
   ]
  },
  {
   "cell_type": "code",
   "execution_count": 11,
   "id": "2e5c8ca3",
   "metadata": {},
   "outputs": [
    {
     "data": {
      "text/plain": [
       "count     607.000000\n",
       "mean     2021.405272\n",
       "std         0.692133\n",
       "min      2020.000000\n",
       "25%      2021.000000\n",
       "50%      2022.000000\n",
       "75%      2022.000000\n",
       "max      2022.000000\n",
       "Name: work_year, dtype: float64"
      ]
     },
     "execution_count": 11,
     "metadata": {},
     "output_type": "execute_result"
    }
   ],
   "source": [
    "data['work_year'].describe()"
   ]
  },
  {
   "cell_type": "markdown",
   "id": "d8058648",
   "metadata": {},
   "source": [
    "Распределение **не является нормальным**. С увелечением года увеличевается количество выплаченных зарплат"
   ]
  },
  {
   "cell_type": "markdown",
   "id": "fb967c65",
   "metadata": {},
   "source": [
    "Распределение размеров компаний"
   ]
  },
  {
   "cell_type": "code",
   "execution_count": 12,
   "id": "a05180aa",
   "metadata": {},
   "outputs": [
    {
     "data": {
      "image/png": "[encoded data removed]",
      "text/plain": [
       "<Figure size 700x400 with 1 Axes>"
      ]
     },
     "metadata": {},
     "output_type": "display_data"
    }
   ],
   "source": [
    "fig, axes = plt.subplots(1, 1, figsize=(7, 4))\n",
    "sns.countplot(x=data['company_size'], ax=axes)\n",
    "axes.set_title('Количество записей в разрезе признака размера компаний')\n",
    "axes.set(xlabel='Размер компании', ylabel='Количество записей');"
   ]
  },
  {
   "cell_type": "markdown",
   "id": "6d37f47e",
   "metadata": {},
   "source": [
    "Большинство компаний имеют средний размер, меньшинство - малый размер"
   ]
  },
  {
   "cell_type": "markdown",
   "id": "a29566fc",
   "metadata": {},
   "source": [
    "#### Распределение зарплат в зависимости от других признаков\n",
    "\n",
    "Распределение зарплат Data Scientist в зависимости от года"
   ]
  },
  {
   "cell_type": "code",
   "execution_count": 13,
   "id": "1e61cd02",
   "metadata": {},
   "outputs": [],
   "source": [
    "# Находим все объекты по всем наименованиям Data Scientist\n",
    "data_scientist = data[data['job_title'] == 'Data Scientist']\n",
    "# Находим все объекты по всем наименованиям Data Engineer\n",
    "data_engineer = data[data['job_title'] == 'Data Engineer']\n",
    "# Оставляем в таблице только Data Scientist и Data Engineer\n",
    "ds_de = data[(data['job_title']=='Data Scientist') | (data['job_title']=='Data Engineer')]"
   ]
  },
  {
   "cell_type": "code",
   "execution_count": 14,
   "id": "02e236b0",
   "metadata": {},
   "outputs": [
    {
     "data": {
      "image/png": "[encoded data removed]",
      "text/plain": [
       "<Figure size 1500x500 with 1 Axes>"
      ]
     },
     "metadata": {},
     "output_type": "display_data"
    }
   ],
   "source": [
    "fig, axes = plt.subplots(1, 1, figsize=(15,5))\n",
    "\n",
    "sns.boxplot(data_scientist, x='salary_in_usd', y='work_year', orient='h', ax=axes)\n",
    "axes.set_title('Распределение зарплат Data Scientist в зависимости от года')\n",
    "axes.set(xlabel='Зарплата', ylabel='Год работы');"
   ]
  },
  {
   "cell_type": "code",
   "execution_count": 15,
   "id": "396ec8a9",
   "metadata": {},
   "outputs": [
    {
     "data": {
      "text/html": [
       "<div>\n",
       "<style scoped>\n",
       "    .dataframe tbody tr th:only-of-type {\n",
       "        vertical-align: middle;\n",
       "    }\n",
       "\n",
       "    .dataframe tbody tr th {\n",
       "        vertical-align: top;\n",
       "    }\n",
       "\n",
       "    .dataframe thead th {\n",
       "        text-align: right;\n",
       "    }\n",
       "</style>\n",
       "<table border=\"1\" class=\"dataframe\">\n",
       "  <thead>\n",
       "    <tr style=\"text-align: right;\">\n",
       "      <th></th>\n",
       "      <th>count</th>\n",
       "      <th>mean</th>\n",
       "      <th>std</th>\n",
       "      <th>min</th>\n",
       "      <th>25%</th>\n",
       "      <th>50%</th>\n",
       "      <th>75%</th>\n",
       "      <th>max</th>\n",
       "    </tr>\n",
       "    <tr>\n",
       "      <th>work_year</th>\n",
       "      <th></th>\n",
       "      <th></th>\n",
       "      <th></th>\n",
       "      <th></th>\n",
       "      <th></th>\n",
       "      <th></th>\n",
       "      <th></th>\n",
       "      <th></th>\n",
       "    </tr>\n",
       "  </thead>\n",
       "  <tbody>\n",
       "    <tr>\n",
       "      <th>2020</th>\n",
       "      <td>72.0</td>\n",
       "      <td>95813.00</td>\n",
       "      <td>82831.80</td>\n",
       "      <td>5707.0</td>\n",
       "      <td>45724.5</td>\n",
       "      <td>75544.0</td>\n",
       "      <td>115526.0</td>\n",
       "      <td>450000.0</td>\n",
       "    </tr>\n",
       "    <tr>\n",
       "      <th>2021</th>\n",
       "      <td>217.0</td>\n",
       "      <td>99853.79</td>\n",
       "      <td>80225.11</td>\n",
       "      <td>2859.0</td>\n",
       "      <td>50000.0</td>\n",
       "      <td>82528.0</td>\n",
       "      <td>135000.0</td>\n",
       "      <td>600000.0</td>\n",
       "    </tr>\n",
       "    <tr>\n",
       "      <th>2022</th>\n",
       "      <td>318.0</td>\n",
       "      <td>124522.01</td>\n",
       "      <td>58183.65</td>\n",
       "      <td>10000.0</td>\n",
       "      <td>81666.0</td>\n",
       "      <td>120000.0</td>\n",
       "      <td>160000.0</td>\n",
       "      <td>405000.0</td>\n",
       "    </tr>\n",
       "  </tbody>\n",
       "</table>\n",
       "</div>"
      ],
      "text/plain": [
       "           count       mean       std      min      25%       50%       75%  \\\n",
       "work_year                                                                     \n",
       "2020        72.0   95813.00  82831.80   5707.0  45724.5   75544.0  115526.0   \n",
       "2021       217.0   99853.79  80225.11   2859.0  50000.0   82528.0  135000.0   \n",
       "2022       318.0  124522.01  58183.65  10000.0  81666.0  120000.0  160000.0   \n",
       "\n",
       "                max  \n",
       "work_year            \n",
       "2020       450000.0  \n",
       "2021       600000.0  \n",
       "2022       405000.0  "
      ]
     },
     "metadata": {},
     "output_type": "display_data"
    }
   ],
   "source": [
    "display(round(data.groupby('work_year')['salary_in_usd'].describe(), 2))"
   ]
  },
  {
   "cell_type": "markdown",
   "id": "631b52b0",
   "metadata": {},
   "source": [
    "С увеличением года можно заметить увеличение зарплат:\n",
    "- Медианы и средние значения становятся выше\n",
    "- Распределения имеют почти одинаковый разброс значений\n",
    "- В 2022 году зарплаты Data Scientist резко увеличились"
   ]
  },
  {
   "cell_type": "markdown",
   "id": "621e79b2",
   "metadata": {},
   "source": [
    "Распределение зарплат Data Scientist в зависимости от размера компании"
   ]
  },
  {
   "cell_type": "code",
   "execution_count": 16,
   "id": "e2018eaa",
   "metadata": {},
   "outputs": [
    {
     "data": {
      "image/png": "[encoded data removed]",
      "text/plain": [
       "<Figure size 1500x500 with 1 Axes>"
      ]
     },
     "metadata": {},
     "output_type": "display_data"
    }
   ],
   "source": [
    "fig, axes = plt.subplots(1, 1, figsize=(15,5))\n",
    "\n",
    "sns.boxplot(data_scientist, x='salary_in_usd', y='company_size', orient='h', ax=axes)\n",
    "axes.set_title('Распределение зарплат Data Scientist в зависимости от размера компании')\n",
    "axes.set(xlabel='Зарплата', ylabel='Размер компании');"
   ]
  },
  {
   "cell_type": "code",
   "execution_count": 17,
   "id": "6aa81bc5",
   "metadata": {},
   "outputs": [
    {
     "data": {
      "text/html": [
       "<div>\n",
       "<style scoped>\n",
       "    .dataframe tbody tr th:only-of-type {\n",
       "        vertical-align: middle;\n",
       "    }\n",
       "\n",
       "    .dataframe tbody tr th {\n",
       "        vertical-align: top;\n",
       "    }\n",
       "\n",
       "    .dataframe thead th {\n",
       "        text-align: right;\n",
       "    }\n",
       "</style>\n",
       "<table border=\"1\" class=\"dataframe\">\n",
       "  <thead>\n",
       "    <tr style=\"text-align: right;\">\n",
       "      <th></th>\n",
       "      <th>count</th>\n",
       "      <th>mean</th>\n",
       "      <th>std</th>\n",
       "      <th>min</th>\n",
       "      <th>25%</th>\n",
       "      <th>50%</th>\n",
       "      <th>75%</th>\n",
       "      <th>max</th>\n",
       "    </tr>\n",
       "    <tr>\n",
       "      <th>company_size</th>\n",
       "      <th></th>\n",
       "      <th></th>\n",
       "      <th></th>\n",
       "      <th></th>\n",
       "      <th></th>\n",
       "      <th></th>\n",
       "      <th></th>\n",
       "      <th></th>\n",
       "    </tr>\n",
       "  </thead>\n",
       "  <tbody>\n",
       "    <tr>\n",
       "      <th>L</th>\n",
       "      <td>198.0</td>\n",
       "      <td>119242.99</td>\n",
       "      <td>86156.74</td>\n",
       "      <td>5882.0</td>\n",
       "      <td>61041.75</td>\n",
       "      <td>100000.0</td>\n",
       "      <td>154600.0</td>\n",
       "      <td>600000.0</td>\n",
       "    </tr>\n",
       "    <tr>\n",
       "      <th>M</th>\n",
       "      <td>326.0</td>\n",
       "      <td>116905.47</td>\n",
       "      <td>59287.69</td>\n",
       "      <td>4000.0</td>\n",
       "      <td>78131.50</td>\n",
       "      <td>113188.0</td>\n",
       "      <td>152875.0</td>\n",
       "      <td>450000.0</td>\n",
       "    </tr>\n",
       "    <tr>\n",
       "      <th>S</th>\n",
       "      <td>83.0</td>\n",
       "      <td>77632.67</td>\n",
       "      <td>63461.71</td>\n",
       "      <td>2859.0</td>\n",
       "      <td>41943.00</td>\n",
       "      <td>65000.0</td>\n",
       "      <td>100000.0</td>\n",
       "      <td>416000.0</td>\n",
       "    </tr>\n",
       "  </tbody>\n",
       "</table>\n",
       "</div>"
      ],
      "text/plain": [
       "              count       mean       std     min       25%       50%  \\\n",
       "company_size                                                           \n",
       "L             198.0  119242.99  86156.74  5882.0  61041.75  100000.0   \n",
       "M             326.0  116905.47  59287.69  4000.0  78131.50  113188.0   \n",
       "S              83.0   77632.67  63461.71  2859.0  41943.00   65000.0   \n",
       "\n",
       "                   75%       max  \n",
       "company_size                      \n",
       "L             154600.0  600000.0  \n",
       "M             152875.0  450000.0  \n",
       "S             100000.0  416000.0  "
      ]
     },
     "metadata": {},
     "output_type": "display_data"
    }
   ],
   "source": [
    "display(round(data.groupby('company_size')['salary_in_usd'].describe(), 2))"
   ]
  },
  {
   "cell_type": "markdown",
   "id": "d59a1b51",
   "metadata": {},
   "source": [
    "Распределения зарплат для Data Scientist в зависимости от размера компании различны:\n",
    "- В малых компаниях Data Scientist зарабатывают в среднем меньше\n",
    "- В средних компаниях Data Scientist зарабатывают в среднем больше всех\n",
    "- В больших  компаниях зарплата Data Scientist не так далеко ушла от средних компаний, но всё же имеет меньшую медиану и больший разброс значений"
   ]
  },
  {
   "cell_type": "markdown",
   "id": "8875027e",
   "metadata": {},
   "source": [
    "##### Есть ли связь между наличием должностей Data Scientist и Data Engineer и размером компании?"
   ]
  },
  {
   "cell_type": "code",
   "execution_count": 18,
   "id": "d12fd88b",
   "metadata": {},
   "outputs": [
    {
     "data": {
      "image/png": "[encoded data removed]",
      "text/plain": [
       "<Figure size 640x480 with 2 Axes>"
      ]
     },
     "metadata": {},
     "output_type": "display_data"
    }
   ],
   "source": [
    "table = pd.crosstab(ds_de['job_title'], ds_de['company_size'])\n",
    "\n",
    "ax = sns.heatmap(table, annot=True);\n",
    "ax.set(xlabel='Размер компании', ylabel='Специальность');\n",
    "ax.set_title('Связь между наличием должностей Data Scientist и Data Engineer и размером компании');"
   ]
  },
  {
   "cell_type": "markdown",
   "id": "2f4d8c46",
   "metadata": {},
   "source": [
    "Выражена яркая взаимосвязь между специальностями Data Scientist и Data Engineer по размеру компаний"
   ]
  },
  {
   "cell_type": "markdown",
   "id": "711c052d",
   "metadata": {},
   "source": [
    "##### Какие факторы влияют на заработную плату?\n",
    "На заработную плату вляет:\n",
    "- Год, в котором была получена зарплата \n",
    "- Размер компании, в которой была получена зарплата"
   ]
  },
  {
   "cell_type": "markdown",
   "id": "12676d85",
   "metadata": {},
   "source": [
    "#### Дополнительные бизнес вопросы"
   ]
  },
  {
   "cell_type": "markdown",
   "id": "c79f4c51",
   "metadata": {},
   "source": [
    "##### Как различаются зарплаты Data Scientist в зависимости от уровня их опыта работы?"
   ]
  },
  {
   "cell_type": "code",
   "execution_count": 19,
   "id": "be278ec6",
   "metadata": {},
   "outputs": [
    {
     "data": {
      "image/png": "[encoded data removed]",
      "text/plain": [
       "<Figure size 640x480 with 1 Axes>"
      ]
     },
     "metadata": {},
     "output_type": "display_data"
    }
   ],
   "source": [
    "ax = sns.barplot(y=data_scientist['salary_in_usd'], x=data_scientist['experience_level'], errorbar=None)\n",
    "ax.set(xlabel='Размер компании', ylabel='Зарплата');\n",
    "ax.set_title('Как различаются зарплаты Data Scientist в зависимости от уровня их опыта работы?');"
   ]
  },
  {
   "cell_type": "markdown",
   "id": "06937694",
   "metadata": {},
   "source": [
    "Чем больше опыт работы, тем больше зарплата\n",
    "- Мидл зарабатывает больше джуна примерно на 1/3\n",
    "- Сеньер зарабатывает намного больше мидла: примерно почти в **2** раза"
   ]
  },
  {
   "cell_type": "markdown",
   "id": "ee87201c",
   "metadata": {},
   "source": [
    "##### Есть ли связь между опытом работы и размером компании?"
   ]
  },
  {
   "cell_type": "code",
   "execution_count": 20,
   "id": "2ce29470",
   "metadata": {},
   "outputs": [
    {
     "data": {
      "image/png": "[encoded data removed]",
      "text/plain": [
       "<Figure size 640x480 with 2 Axes>"
      ]
     },
     "metadata": {},
     "output_type": "display_data"
    }
   ],
   "source": [
    "table = pd.crosstab(data_scientist['experience_level'], data_scientist['company_size'])\n",
    "\n",
    "ax = sns.heatmap(table, annot=True);\n",
    "ax.set(xlabel='Размер компании', ylabel='Опыт работы');\n",
    "ax.set_title('Есть ли связь между опытом работы и размером компании?');"
   ]
  },
  {
   "cell_type": "markdown",
   "id": "960424dd",
   "metadata": {},
   "source": [
    "Нету выраженной связи между опытом работы и размером компании, но:\n",
    "- Большие и средние компании имеют больше специалистов с опытом работы мидл и сеньер"
   ]
  },
  {
   "cell_type": "markdown",
   "id": "3f22b95e",
   "metadata": {},
   "source": [
    "### Статистический анализ данных"
   ]
  },
  {
   "cell_type": "code",
   "execution_count": 21,
   "id": "5fd74fa2",
   "metadata": {},
   "outputs": [],
   "source": [
    "# Функция для принятия решения об отклонении нулевой гипотезы\n",
    "def test_hypothesis(p):\n",
    "    if p<=alpha:\n",
    "        print(f'pvalue {round(p, 3)} меньше чем уровень значимости {alpha}, отклоняем нулевую гипотезу в пользу альтернативной')\n",
    "    else:\n",
    "        print(f'pvalue {round(p, 3)} больше чем уровень значимости {alpha}. Нет оснований отвергнуть нулевую гипотезу')\n",
    "        \n",
    "# Функция для принятия решения о нормальности\n",
    "def test_normal(p):\n",
    "    if p<=alpha:\n",
    "        print(f'pvalue {round(p, 3)} меньше чем уровень значимости {alpha}. Распределение не нормальное')\n",
    "    else:\n",
    "        print(f'pvalue {round(p, 3)} больше чем уровень значимости {alpha}. Распределение нормальное')\n",
    "        \n",
    "# Функция для принятия решения о равности дисперсий\n",
    "def test_variance(p):\n",
    "    if p<=alpha:\n",
    "        print(f'pvalue {round(p, 3)} меньше чем уровень значимости {alpha}. Дисперсии неравны')\n",
    "    else:\n",
    "        print(f'pvalue {round(p, 3)} больше чем уровень значимости {alpha}. Нет оснований отвергнуть нулевую гипотезу, дисперсии равны')"
   ]
  },
  {
   "cell_type": "markdown",
   "id": "53108cb2",
   "metadata": {},
   "source": [
    "#### Наблюдается ли ежегодный рост зарплат у специалистов Data Scientist?"
   ]
  },
  {
   "cell_type": "markdown",
   "id": "16cdf4b5",
   "metadata": {},
   "source": [
    "**Сформулируем нулевую и альтернативные гипотезы** (Изначально предлагаю проверить, равны ли зарплаты каждый год)"
   ]
  },
  {
   "cell_type": "markdown",
   "id": "0e1e826c",
   "metadata": {},
   "source": [
    "*Нулевая гипотеза $(H_0)$*: Зарплаты Data Scientist каждый год одинаковые\n",
    "$$H_0 : h_1 = h_2 = h_3$$\n",
    "\n",
    "*Нулевая гипотеза $(H_1)$*: Зарплаты Data Scientist каждый год разные\n",
    "$$H_0 : h_1  \\neq  h_2  \\neq  h_3$$"
   ]
  },
  {
   "cell_type": "markdown",
   "id": "1b260d0c",
   "metadata": {},
   "source": [
    "**Проверка на нормальность**"
   ]
  },
  {
   "cell_type": "code",
   "execution_count": 22,
   "id": "5ebdb8fa",
   "metadata": {},
   "outputs": [
    {
     "name": "stdout",
     "output_type": "stream",
     "text": [
      "pvalue 0.0 меньше чем уровень значимости 0.05. Распределение не нормальное\n",
      "pvalue 0.125 больше чем уровень значимости 0.05. Распределение нормальное\n",
      "pvalue 0.327 больше чем уровень значимости 0.05. Распределение нормальное\n"
     ]
    }
   ],
   "source": [
    "salary_year2020 = data_scientist[data_scientist['work_year']==2020]['salary_in_usd']\n",
    "salary_year2021 = data_scientist[data_scientist['work_year']==2021]['salary_in_usd']\n",
    "salary_year2022 = data_scientist[data_scientist['work_year']==2022]['salary_in_usd']\n",
    "\n",
    "test_normal(stats.shapiro(salary_year2020)[1])\n",
    "test_normal(stats.shapiro(salary_year2021)[1])\n",
    "test_normal(stats.shapiro(salary_year2022)[1])"
   ]
  },
  {
   "cell_type": "markdown",
   "id": "a78b8551",
   "metadata": {},
   "source": [
    "**Выбор подходящего теста**"
   ]
  },
  {
   "cell_type": "markdown",
   "id": "00a2aadc",
   "metadata": {},
   "source": [
    "- Какой тип признака у зарплат для Data Scientist? - **Количественный**\n",
    "- Сколько сравнимаемых групп? - **3**\n",
    "- Группы зависимые или независимые? - **Независимые**\n",
    "- Распределение? - **Нормальное и ненормальное**\n",
    "\n",
    "Подходящий тест: **Критерий Краскела — Уоллиса** (так как в одной группе распределение ненормальное)"
   ]
  },
  {
   "cell_type": "code",
   "execution_count": 23,
   "id": "a2ba4fd1",
   "metadata": {},
   "outputs": [
    {
     "name": "stdout",
     "output_type": "stream",
     "text": [
      "pvalue 0.0 меньше чем уровень значимости 0.05, отклоняем нулевую гипотезу в пользу альтернативной\n",
      "Зарплаты каждый год разные\n"
     ]
    }
   ],
   "source": [
    "# Проверка гипотезы\n",
    "test_hypothesis(stats.kruskal(salary_year2020, salary_year2021, salary_year2022)[1])\n",
    "print('Зарплаты каждый год разные')"
   ]
  },
  {
   "cell_type": "markdown",
   "id": "25dbfa0b",
   "metadata": {},
   "source": [
    "Теперь проверим последовательно: увеличиваются ли всё-таки зарплаты или нет?\n",
    "\n",
    "*Нулевая гипотеза $(H_0)$*: Зарплата предыдущего года выше(или равна), чем у следующего\n",
    "$$H_0 : h_1 => h_2 $$\n",
    "\n",
    "*Нулевая гипотеза $(H_1)$*: Зарплата предыдущего года ниже, чем у следующего\n",
    "$$H_0 : h_1  < h_2 $$\n",
    "\n",
    "\n",
    "Для этого будем исползовать **U-критерий Манна-Уитни**, поскольку:\n",
    "- Признак количественный\n",
    "- Группы 2\n",
    "- Независимые\n",
    "- Ненормальное распределение\n",
    "\n"
   ]
  },
  {
   "cell_type": "code",
   "execution_count": 24,
   "id": "9dffdd02",
   "metadata": {},
   "outputs": [
    {
     "name": "stdout",
     "output_type": "stream",
     "text": [
      "pvalue 0.685 больше чем уровень значимости 0.05. Нет оснований отвергнуть нулевую гипотезу\n",
      "pvalue 0.0 меньше чем уровень значимости 0.05, отклоняем нулевую гипотезу в пользу альтернативной\n"
     ]
    }
   ],
   "source": [
    "test_hypothesis(stats.mannwhitneyu(salary_year2020, salary_year2021, alternative='less')[1])\n",
    "test_hypothesis(stats.mannwhitneyu(salary_year2021, salary_year2022, alternative='less')[1])"
   ]
  },
  {
   "cell_type": "markdown",
   "id": "a19acfe4",
   "metadata": {},
   "source": [
    "**Вывод**\n",
    "\n",
    "Мы не можем сказать точно, увеличиваются ли зарплаты с каждым годом. Но в 2022 году зарплата становится выше"
   ]
  },
  {
   "cell_type": "markdown",
   "id": "18c70f71",
   "metadata": {},
   "source": [
    "#### Как соотносятся зарплаты Data Scientist и Data Engineer в 2022 году?"
   ]
  },
  {
   "cell_type": "markdown",
   "id": "76b60870",
   "metadata": {},
   "source": [
    "**Сформулируем нулевые и альтернативные гипотезы**\n",
    "\n",
    "*Нулевая гипотеза $(H_0)$*: Зарплата Data Scientist в 2022 году равна зарплате Data Engineer в 2022 году\n",
    "$$H_0 : h_1 = h_2 $$\n",
    "\n",
    "*Нулевая гипотеза $(H_1)$*: Зарплата Data Scientist в 2022 году не равна зарплате Data Engineer в 2022 году\n",
    "$$H_0 : h_1 \\neq h_2 $$\n",
    "\n",
    "**Проверка на нормальность**"
   ]
  },
  {
   "cell_type": "code",
   "execution_count": 25,
   "id": "0da4f80c",
   "metadata": {},
   "outputs": [
    {
     "name": "stdout",
     "output_type": "stream",
     "text": [
      "pvalue 0.327 больше чем уровень значимости 0.05. Распределение нормальное\n",
      "pvalue 0.01 меньше чем уровень значимости 0.05. Распределение не нормальное\n"
     ]
    }
   ],
   "source": [
    "data_scientist_salary2022 = data_scientist[data_scientist['work_year']==2022]['salary_in_usd']\n",
    "data_engineer_salary2022 = data_engineer[data_engineer['work_year']==2022]['salary_in_usd']\n",
    "\n",
    "test_normal(stats.shapiro(data_scientist_salary2022)[1])\n",
    "test_normal(stats.shapiro(data_engineer_salary2022)[1])"
   ]
  },
  {
   "cell_type": "markdown",
   "id": "b88c2572",
   "metadata": {},
   "source": [
    "**Выбор подходящего теста**\n",
    "- Какой тип признака у зарплат? - **Количественный**\n",
    "- Сколько сравнимаемых групп? - **2**\n",
    "- Группы зависимые или независимые? - **Независимые**\n",
    "- Распределение? - **Ненормальное и нормальное**\n",
    "\n",
    "Подходящий тест: **U-критерий Манна-Уитни** (так как в одной группе распределение ненормальное)"
   ]
  },
  {
   "cell_type": "code",
   "execution_count": 26,
   "id": "e933899d",
   "metadata": {},
   "outputs": [
    {
     "name": "stdout",
     "output_type": "stream",
     "text": [
      "pvalue 0.155 больше чем уровень значимости 0.05. Нет оснований отвергнуть нулевую гипотезу\n"
     ]
    }
   ],
   "source": [
    "test_hypothesis(stats.mannwhitneyu(data_scientist_salary2022, data_engineer_salary2022)[1])"
   ]
  },
  {
   "cell_type": "markdown",
   "id": "261a9e87",
   "metadata": {},
   "source": [
    "**Вывод**\n",
    "\n",
    "Нет оснований утверждать, что есть разница в зарплатах Data Scientist и Data Engineer в 2022 году"
   ]
  },
  {
   "cell_type": "markdown",
   "id": "666753c7",
   "metadata": {},
   "source": [
    "#### Как соотносятся зарплаты специалистов Data Scientist в компаниях различных размеров?"
   ]
  },
  {
   "cell_type": "markdown",
   "id": "fdf1389e",
   "metadata": {},
   "source": [
    "**Сформулируем нулевые и альтернативные гипотезы**\n",
    "\n",
    "*Нулевая гипотеза $(H_0)$*: Зарплата Data Scientist не зависит от размера компании\n",
    "$$H_0 : h_1 = h_2 = h_3 $$\n",
    "\n",
    "*Нулевая гипотеза $(H_1)$*: Зарплата Data Scientist зависит от размера компании\n",
    "$$H_0 : h_1 \\neq h_2 \\neq h_3$$\n",
    "\n",
    "**Проверка на нормальность**"
   ]
  },
  {
   "cell_type": "code",
   "execution_count": 27,
   "id": "30b35dea",
   "metadata": {},
   "outputs": [
    {
     "name": "stdout",
     "output_type": "stream",
     "text": [
      "pvalue 0.189 больше чем уровень значимости 0.05. Распределение нормальное\n",
      "pvalue 0.639 больше чем уровень значимости 0.05. Распределение нормальное\n",
      "pvalue 0.0 меньше чем уровень значимости 0.05. Распределение не нормальное\n"
     ]
    }
   ],
   "source": [
    "data_scientist_sizeS = data_scientist[data_scientist['company_size']=='S']['salary_in_usd']\n",
    "data_scientist_sizeM = data_scientist[data_scientist['company_size']=='M']['salary_in_usd']\n",
    "data_scientist_sizeL = data_scientist[data_scientist['company_size']=='L']['salary_in_usd']\n",
    "\n",
    "test_normal(stats.shapiro(data_scientist_sizeS)[1])\n",
    "test_normal(stats.shapiro(data_scientist_sizeM)[1])\n",
    "test_normal(stats.shapiro(data_scientist_sizeL)[1])"
   ]
  },
  {
   "cell_type": "markdown",
   "id": "965348ad",
   "metadata": {},
   "source": [
    "**Выбор подходящего теста**\n",
    "- Какой тип признака у зарплат? - **Количественный**\n",
    "- Сколько сравнимаемых групп? - **3**\n",
    "- Группы зависимые или независимые? - **Независимые**\n",
    "- Распределение? - **Ненормальное и нормальное**\n",
    "\n",
    "Подходящий тест: **Критерий Краскела — Уоллиса** (так как в одной группе распределение ненормальное)"
   ]
  },
  {
   "cell_type": "code",
   "execution_count": 28,
   "id": "d65d2a35",
   "metadata": {},
   "outputs": [
    {
     "name": "stdout",
     "output_type": "stream",
     "text": [
      "pvalue 0.0 меньше чем уровень значимости 0.05, отклоняем нулевую гипотезу в пользу альтернативной\n"
     ]
    }
   ],
   "source": [
    "test_hypothesis(stats.kruskal(data_scientist_sizeS, data_scientist_sizeM, data_scientist_sizeL)[1])"
   ]
  },
  {
   "cell_type": "markdown",
   "id": "0c79b9a7",
   "metadata": {},
   "source": [
    "**Вывод**\n",
    "\n",
    "Отклоняем нулевую гипотезу. Зарплата зависит от размера компании"
   ]
  },
  {
   "cell_type": "markdown",
   "id": "8e656a84",
   "metadata": {},
   "source": [
    "#### Есть ли связь между наличием должностей Data Scientist и Data Engineer и размером компании?\n",
    "\n",
    "**Сформулируем нулевые и альтернативные гипотезы**\n",
    "\n",
    "*Нулевая гипотеза $(H_0)$*: Нету связи между наличием должностей Data Scientist и Data Engineer и размером компании\n",
    "\n",
    "*Нулевая гипотеза $(H_1)$*: Есть связь между наличием должностей Data Scientist и Data Engineer и размером компании\n",
    "\n",
    "**Выбор подходящего теста**\n",
    "- Какой тип признака у зарплат? - **Категориальный**\n",
    "- Что хотим сделать? - **Оценить взаимосвязь между признаками одной выборки**\n",
    "\n",
    "Подходящий тест: **Критерий хи-квадрат**"
   ]
  },
  {
   "cell_type": "code",
   "execution_count": 29,
   "id": "4c5d9d78",
   "metadata": {},
   "outputs": [
    {
     "name": "stdout",
     "output_type": "stream",
     "text": [
      "pvalue 0.008 меньше чем уровень значимости 0.05, отклоняем нулевую гипотезу в пользу альтернативной\n"
     ]
    }
   ],
   "source": [
    "table = pd.crosstab(ds_de['job_title'], ds_de['company_size'])\n",
    "\n",
    "test_hypothesis(stats.chi2_contingency(table)[1])"
   ]
  },
  {
   "cell_type": "markdown",
   "id": "25f54287",
   "metadata": {},
   "source": [
    "**Вывод**\n",
    "\n",
    "Отвергаем нулевую гипотезу. Есть связь между наличием должностей Data Scientist и Data Engineer и размером компании"
   ]
  },
  {
   "cell_type": "markdown",
   "id": "9d2d1e2a",
   "metadata": {},
   "source": [
    "### Исследования дополнительных вопросов\n",
    "#### Как различаются зарплаты Data Scientist в зависимости от уровня их опыта работы?\n",
    "\n",
    "**Составим нулевые и альтернативные гипотезы**\n",
    "\n",
    "*Нулевая гипотеза $(H_0)$*: Зарплата у Data Scientist с меньшим опытом больше, чем у Data Scientist с большим опытом\n",
    "$$H_0 : h_1 => h_2 $$\n",
    "\n",
    "*Нулевая гипотеза $(H_1)$*: Зарплата у Data Scientist с меньшим опытом меньше, чем у Data Scientist с большим опытом\n",
    "$$H_0 : h_1  < h_2 $$\n",
    "\n",
    "(Проверим последовательно: увеличиваются ли всё-таки зарплаты при повышении опыта работы или нет?)\n",
    "\n",
    "**Проверка на нормальность:**"
   ]
  },
  {
   "cell_type": "code",
   "execution_count": 30,
   "id": "2de69c0d",
   "metadata": {},
   "outputs": [
    {
     "name": "stdout",
     "output_type": "stream",
     "text": [
      "pvalue 0.174 больше чем уровень значимости 0.05. Распределение нормальное\n",
      "pvalue 0.178 больше чем уровень значимости 0.05. Распределение нормальное\n",
      "pvalue 0.0 меньше чем уровень значимости 0.05. Распределение не нормальное\n"
     ]
    }
   ],
   "source": [
    "data_scientist_EN = data_scientist[data_scientist['experience_level'] == 'EN']['salary_in_usd']\n",
    "data_scientist_MI = data_scientist[data_scientist['experience_level'] == 'MI']['salary_in_usd']\n",
    "data_scientist_SE = data_scientist[data_scientist['experience_level'] == 'SE']['salary_in_usd']\n",
    "\n",
    "test_normal(stats.shapiro(data_scientist_EN)[1])\n",
    "test_normal(stats.shapiro(data_scientist_MI)[1])\n",
    "test_normal(stats.shapiro(data_scientist_SE)[1])"
   ]
  },
  {
   "cell_type": "markdown",
   "id": "0f5cb808",
   "metadata": {},
   "source": [
    "**Выбор подходящего теста**\n",
    "- Какой тип признака у зарплат? - **Количественный**\n",
    "- Сколько сравнимаемых групп? - **2** (Поскольку будем сравнивать последовательно)\n",
    "- Группы зависимые или независимые? - **Независимые**\n",
    "- Распределение? - **Ненормальное и нормальное**\n",
    "\n",
    "Подходящий тест: **Двухвыборочный t-критерий** (так как EN и MI имеют нормальное распределение) и **U-критерий Манна-Уитни** (так как SE имеет ненормальное распределение)\n",
    "\n",
    "**Проверка на равность дисперсий**"
   ]
  },
  {
   "cell_type": "code",
   "execution_count": 31,
   "id": "08c72105",
   "metadata": {},
   "outputs": [
    {
     "name": "stdout",
     "output_type": "stream",
     "text": [
      "pvalue 0.029 меньше чем уровень значимости 0.05. Дисперсии неравны\n"
     ]
    }
   ],
   "source": [
    "test_variance(stats.levene(data_scientist_EN, data_scientist_MI)[1])"
   ]
  },
  {
   "cell_type": "markdown",
   "id": "781ce574",
   "metadata": {},
   "source": [
    "**Проведение тестов**"
   ]
  },
  {
   "cell_type": "code",
   "execution_count": 138,
   "id": "2e62f5d1",
   "metadata": {},
   "outputs": [
    {
     "name": "stdout",
     "output_type": "stream",
     "text": [
      "pvalue 0.002 меньше чем уровень значимости 0.05, отклоняем нулевую гипотезу в пользу альтернативной\n",
      "Data Scientist с большим опытом работы MI имеют большую зарплату\n",
      "pvalue 0.0 меньше чем уровень значимости 0.05, отклоняем нулевую гипотезу в пользу альтернативной\n",
      "Data Scientist с большим опытом работы SE имеют большую зарплату\n"
     ]
    }
   ],
   "source": [
    "test_hypothesis(stats.ttest_ind(data_scientist_EN, data_scientist_MI, alternative='less', equal_var=False)[1])\n",
    "print('Data Scientist с большим опытом работы MI имеют большую зарплату')\n",
    "\n",
    "test_hypothesis(stats.mannwhitneyu(data_scientist_MI, data_scientist_SE, alternative='less')[1])\n",
    "print('Data Scientist с большим опытом работы SE имеют большую зарплату')"
   ]
  },
  {
   "cell_type": "markdown",
   "id": "40054add",
   "metadata": {},
   "source": [
    "**Вывод**\n",
    "\n",
    "Отклоняем нулевую гипотезу. От опыта работы зависит зарплата: чем больше опыт работы, тем больше зарплата"
   ]
  },
  {
   "cell_type": "markdown",
   "id": "9f5c1021",
   "metadata": {},
   "source": [
    "#### Есть ли связь между опытом работы и размером компании?\n",
    "\n",
    "**Составим нулевые и альтернативные гипотезы**\n",
    "\n",
    "*Нулевая гипотеза $(H_0)$*: Нету связи между опытом работы и размером компании\n",
    "\n",
    "*Нулевая гипотеза $(H_1)$*: Есть связь между опытом работы и размером компании\n",
    "\n",
    "**Выбор подходящего теста**\n",
    "- Какой тип признака у опыта работы и размера компании? - **Категориальный**\n",
    "- Что хотим сделать? - **Проверить связь между признаками одной выборки**\n",
    "\n",
    "Подходящий тест: **Критерий хи-квадрат**"
   ]
  },
  {
   "cell_type": "code",
   "execution_count": 139,
   "id": "6cb2d6aa",
   "metadata": {},
   "outputs": [
    {
     "name": "stdout",
     "output_type": "stream",
     "text": [
      "pvalue 0.001 меньше чем уровень значимости 0.05, отклоняем нулевую гипотезу в пользу альтернативной\n"
     ]
    }
   ],
   "source": [
    "table = pd.crosstab(data_scientist['experience_level'], data_scientist['company_size'])\n",
    "\n",
    "test_hypothesis(stats.chi2_contingency(table)[1])"
   ]
  },
  {
   "cell_type": "markdown",
   "id": "23e692b8",
   "metadata": {},
   "source": [
    "Оклоняем нулевую гипотезу. Есть связь между опытом работы и размером компании"
   ]
  },
  {
   "cell_type": "markdown",
   "id": "1fe37da7",
   "metadata": {},
   "source": [
    "## Итоговые результаты исследования\n",
    "- Нет оснований утверждать, что с каждым годом зарплаты для Data Scientist становятся выше. Однако в 2022 году они стали выше, по сравнению с прошлым годом\n",
    "- Зарплаты Data Scientist и Data Engineer в 2022 году одинаковы\n",
    "- Зарплаты Data Scientist различны в зависимости от размера компании\n",
    "- Есть связь между наличием должностей Data Scientist и Data Engineer и размером компании\n",
    "##### Результаты дополнительных исследований\n",
    "- Чем больше опыт работы Data Scientist, тем больше его зарплата\n",
    "- Есть связь между признаками опыта работы и размером компании"
   ]
  }
 ],
 "metadata": {
  "kernelspec": {
   "display_name": "Python 3",
   "language": "python",
   "name": "python3"
  },
  "language_info": {
   "codemirror_mode": {
    "name": "ipython",
    "version": 3
   },
   "file_extension": ".py",
   "mimetype": "text/x-python",
   "name": "python",
   "nbconvert_exporter": "python",
   "pygments_lexer": "ipython3",
   "version": "3.13.0"
  }
 },
 "nbformat": 4,
 "nbformat_minor": 5
}
